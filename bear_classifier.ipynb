{
 "cells": [
  {
   "cell_type": "code",
   "execution_count": 1,
   "id": "538eb30a",
   "metadata": {},
   "outputs": [],
   "source": [
    "from fastai.vision.all import *\n",
    "from fastai.vision.widgets import *"
   ]
  },
  {
   "cell_type": "markdown",
   "id": "a6b46e98",
   "metadata": {},
   "source": [
    "# Bear Classifier  \n",
    "  \n",
    "It is a bear classifier which helps to identify black, grizzly and teddy bear. However, it will not work on other types of bear."
   ]
  },
  {
   "cell_type": "code",
   "execution_count": 2,
   "id": "07de0bda",
   "metadata": {},
   "outputs": [],
   "source": [
    "import pathlib\n",
    "\n",
    "plt = platform.system()\n",
    "if plt == 'Linux':\n",
    "    pathlib.WindowsPath = pathlib.PosixPath"
   ]
  },
  {
   "cell_type": "code",
   "execution_count": 3,
   "id": "24ced37f",
   "metadata": {},
   "outputs": [],
   "source": [
    "path = Path()\n",
    "upload_button = widgets.FileUpload()\n",
    "output = widgets.Output()\n",
    "prediction_label = widgets.Label()"
   ]
  },
  {
   "cell_type": "code",
   "execution_count": 4,
   "id": "a54114d2",
   "metadata": {},
   "outputs": [],
   "source": [
    "learn_inf = load_learner(path/'export.pkl', cpu = True)"
   ]
  },
  {
   "cell_type": "code",
   "execution_count": 5,
   "id": "8be20a80",
   "metadata": {},
   "outputs": [],
   "source": [
    "def on_data_change(change):\n",
    "    prediction_label.value = ''\n",
    "    img = PILImage.create(upload_button.data[0])\n",
    "    output.clear_output()\n",
    "    with output:\n",
    "        display(img.to_thumb(128))\n",
    "    pred, pred_idx, probs = learn_inf.predict(img)\n",
    "    prediction_label.value = f\"Predition: {pred}; Probability: {probs[pred_idx]: .04f}\""
   ]
  },
  {
   "cell_type": "code",
   "execution_count": 6,
   "id": "1d0ecd3d",
   "metadata": {},
   "outputs": [],
   "source": [
    "upload_button.observe(on_data_change, names = ['data'])"
   ]
  },
  {
   "cell_type": "code",
   "execution_count": 7,
   "id": "aef7407f",
   "metadata": {},
   "outputs": [
    {
     "data": {
      "application/vnd.jupyter.widget-view+json": {
       "model_id": "d229baa1d8524b6faa84a3376cdefe01",
       "version_major": 2,
       "version_minor": 0
      },
      "text/plain": [
       "VBox(children=(Label(value='Select Your Bear!!!'), FileUpload(value={}, description='Upload'), Output(), Label…"
      ]
     },
     "metadata": {},
     "output_type": "display_data"
    },
    {
     "data": {
      "text/html": [
       "\n",
       "<style>\n",
       "    /* Turns off some styling */\n",
       "    progress {\n",
       "        /* gets rid of default border in Firefox and Opera. */\n",
       "        border: none;\n",
       "        /* Needs to be in here for Safari polyfill so background images work as expected. */\n",
       "        background-size: auto;\n",
       "    }\n",
       "    .progress-bar-interrupted, .progress-bar-interrupted::-webkit-progress-bar {\n",
       "        background: #F44336;\n",
       "    }\n",
       "</style>\n"
      ],
      "text/plain": [
       "<IPython.core.display.HTML object>"
      ]
     },
     "metadata": {},
     "output_type": "display_data"
    },
    {
     "data": {
      "text/html": [],
      "text/plain": [
       "<IPython.core.display.HTML object>"
      ]
     },
     "metadata": {},
     "output_type": "display_data"
    }
   ],
   "source": [
    "display(VBox([widgets.Label(\"Select Your Bear!!!\"),\n",
    "      upload_button,\n",
    "      output,\n",
    "      prediction_label]))"
   ]
  },
  {
   "cell_type": "code",
   "execution_count": null,
   "id": "8a0deca1",
   "metadata": {},
   "outputs": [],
   "source": []
  },
  {
   "cell_type": "code",
   "execution_count": null,
   "id": "326b6659",
   "metadata": {},
   "outputs": [],
   "source": []
  },
  {
   "cell_type": "code",
   "execution_count": null,
   "id": "ea5783db",
   "metadata": {},
   "outputs": [],
   "source": []
  }
 ],
 "metadata": {
  "kernelspec": {
   "display_name": "Python [conda env:fastai] *",
   "language": "python",
   "name": "conda-env-fastai-py"
  },
  "language_info": {
   "codemirror_mode": {
    "name": "ipython",
    "version": 3
   },
   "file_extension": ".py",
   "mimetype": "text/x-python",
   "name": "python",
   "nbconvert_exporter": "python",
   "pygments_lexer": "ipython3",
   "version": "3.8.13"
  }
 },
 "nbformat": 4,
 "nbformat_minor": 5
}
